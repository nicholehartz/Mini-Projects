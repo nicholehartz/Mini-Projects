{
 "cells": [
  {
   "cell_type": "markdown",
   "metadata": {},
   "source": [
    "# SQL Mini Project"
   ]
  },
  {
   "cell_type": "markdown",
   "metadata": {},
   "source": [
    "Welcome to the SQL mini project. You will carry out this project partly in\n",
    "the PHPMyAdmin interface, and partly in Jupyter via a Python connection.\n",
    "<br>\n",
    "This is Tier 2 of the case study, which means that there'll be less guidance for you about how to setup your local SQLite connection in PART 2 of the case study. This will make the case study more challenging for you: you might need to do some digging, and revise the Working with Relational Databases in Python chapter in the previous resource.\n",
    "<br>\n",
    "Otherwise, the questions in the case study are exactly the same as with Tier 1."
   ]
  },
  {
   "cell_type": "markdown",
   "metadata": {},
   "source": [
    "## PART 1: PHPMyAdmin"
   ]
  },
  {
   "cell_type": "markdown",
   "metadata": {},
   "source": [
    "You will complete questions 1-9 below in the PHPMyAdmin interface. \n",
    "Log in by pasting the following URL into your browser, and\n",
    "using the following Username and Password: \n",
    "<br>\n",
    "URL: https://sql.springboard.com/ \n",
    "<br>\n",
    "Username: student\n",
    "<br>\n",
    "Password: learn_sql@springboard\n",
    "<br>\n",
    "The data you need is in the \"country_club\" database. This database\n",
    "contains 3 tables:\n",
    "<br>\n",
    "> i) the \"Bookings\" table,\n",
    "    <br>\n",
    "> ii) the \"Facilities\" table, and\n",
    "    <br>\n",
    "> iii) the \"Members\" table.\n",
    "    <br>\n",
    "    \n",
    "In this case study, you'll be asked a series of questions. You can\n",
    "solve them using the platform, but for the final deliverable,\n",
    "paste the code for each solution into this script, and upload it\n",
    "to your GitHub.\n",
    "<br>\n",
    "Before starting with the questions, feel free to take your time,\n",
    "exploring the data, and getting acquainted with the 3 tables."
   ]
  },
  {
   "cell_type": "markdown",
   "metadata": {},
   "source": [
    "**Q1:** Some of the facilities charge a fee to members, but some do not.\n",
    "Write a SQL query to produce a list of the names of the facilities that do.\n",
    "<br> <br>\n",
    "SELECT name \n",
    "<br>\n",
    "FROM Facilities \n",
    "<br>\n",
    "WHERE membercost > 0;"
   ]
  },
  {
   "cell_type": "markdown",
   "metadata": {},
   "source": [
    "**Q2:** How many facilities do not charge a fee to members?\n",
    "<br> <br>\n",
    "SELECT COUNT(*) \n",
    "<br>\n",
    "FROM Facilities \n",
    "<br>\n",
    "WHERE membercost > 0;"
   ]
  },
  {
   "cell_type": "markdown",
   "metadata": {},
   "source": [
    "**Q3:** Write an SQL query to show a list of facilities that charge a fee to members,\n",
    "where the fee is less than 20% of the facility's monthly maintenance cost.\n",
    "Return the facid, facility name, member cost, and monthly maintenance of the\n",
    "facilities in question.\n",
    "<br> <br>\n",
    "SELECT facid, name, membercost, monthlymaintenance \n",
    "<br>\n",
    "FROM Facilities \n",
    "<br>\n",
    "WHERE membercost < 0.2*(monthlymaintenance);"
   ]
  },
  {
   "cell_type": "markdown",
   "metadata": {},
   "source": [
    "**Q4:** Write an SQL query to retrieve the details of facilities with ID 1 and 5.\n",
    "Try writing the query without using the OR operator. \n",
    "<br> <br>\n",
    "SELECT * \n",
    "<br>\n",
    "FROM Facilities \n",
    "<br>\n",
    "WHERE facid IN (1, 5);"
   ]
  },
  {
   "cell_type": "markdown",
   "metadata": {},
   "source": [
    "**Q5:** Produce a list of facilities, with each labelled as\n",
    "'cheap' or 'expensive', depending on if their monthly maintenance cost is\n",
    "more than $100. Return the name and monthly maintenance of the facilities\n",
    "in question. \n",
    "<br> <br>\n",
    "SELECT name, \n",
    "<br>\n",
    "    monthlymaintenance, \n",
    "    <br>\n",
    "    CASE WHEN monthlymaintenance > 100 THEN 'expensive'\n",
    "    <br>\n",
    "    WHEN monthlymaintenance <= 100 THEN 'cheap' END AS monthlymaintenancecost\n",
    "    <br>\n",
    "FROM Facilities;"
   ]
  },
  {
   "cell_type": "markdown",
   "metadata": {},
   "source": [
    "**Q6:** You'd like to get the first and last name of the last member(s)\n",
    "who signed up. Try not to use the LIMIT clause for your solution. \n",
    "<br> <br>\n",
    "SELECT surname, firstname, joindate \n",
    "<br>\n",
    "FROM Members \n",
    "<br>\n",
    "ORDER BY joindate DESC;"
   ]
  },
  {
   "cell_type": "markdown",
   "metadata": {},
   "source": [
    "**Q7:** Produce a list of all members who have used a tennis court.\n",
    "Include in your output the name of the court, and the name of the member\n",
    "formatted as a single column. Ensure no duplicate data, and order by\n",
    "the member name. \n",
    "<br> <br>\n",
    "SELECT DISTINCT CONCAT(m.surname, ', ', m.firstname) AS membername, f.name, f.facid\n",
    "<br>\n",
    "FROM Members AS m\n",
    "<br>\n",
    "INNER JOIN Bookings AS b\n",
    "<br>\n",
    "ON m.memid = b.memid\n",
    "<br>\n",
    "Inner Join Facilities AS f\n",
    "<br>\n",
    "ON b.facid = f.facid\n",
    "<br>\n",
    "WHERE f.name LIKE 'Tennis Court%'\n",
    "<br>\n",
    "ORDER BY membername;"
   ]
  },
  {
   "cell_type": "markdown",
   "metadata": {},
   "source": [
    "**Q8:** Produce a list of bookings on the day of 2012-09-14 which\n",
    "will cost the member (or guest) more than $30. Remember that guests have\n",
    "different costs to members (the listed costs are per half-hour 'slot'), and\n",
    "the guest user's ID is always 0. Include in your output the name of the\n",
    "facility, the name of the member formatted as a single column, and the cost.\n",
    "Order by descending cost, and do not use any subqueries.\n",
    "<br> <br>\n",
    "SELECT f.name AS facilityname, \n",
    "<br>\n",
    ">    CASE WHEN m.memid != 0 <br>\n",
    "        THEN CONCAT(m.surname, ', ', m.firstname) <br>\n",
    "    ELSE 'Guest' END AS clientname, <br>  \n",
    "    CASE WHEN m.memid != 0 <br>\n",
    "       THEN (b.slots * f.membercost) <br>\n",
    "    ELSE (b.slots * f.guestcost) END AS cost\n",
    "\n",
    "FROM Members AS m\n",
    "<br>\n",
    "INNER JOIN Bookings AS b\n",
    "<br>\n",
    "ON m.memid = b.memid\n",
    "<br>\n",
    "INNER JOIN Facilities AS f\n",
    "<br>\n",
    "ON b.facid = f.facid\n",
    "<br>\n",
    "WHERE starttime LIKE '2012-09-14%'\n",
    "<br>\n",
    "HAVING cost > 30\n",
    "<br>\n",
    "ORDER BY cost DESC;"
   ]
  },
  {
   "cell_type": "markdown",
   "metadata": {},
   "source": [
    "**Q9:** This time, produce the same result as in Q8, but using a subquery.\n",
    "<br> <br>\n",
    "SELECT facilityname, clientname, cost\n",
    "<br>\n",
    "FROM \n",
    "<br>\n",
    ">\t(SELECT\n",
    "\t\tf.name AS facilityname, <br>\n",
    "     \tCASE WHEN m.memid != 0\n",
    "\t\t\tTHEN CONCAT(m.surname, ', ', m.firstname) \n",
    "\t\tELSE 'Guest' END AS clientname, <br>\n",
    "\t\tCASE WHEN m.memid != 0\n",
    "\t\t\tTHEN (b.slots * f.membercost)\n",
    "\t\tELSE (b.slots * f.guestcost) END AS cost <br>\n",
    "     FROM Bookings as b <br>\n",
    "     JOIN Facilities AS f <br>\n",
    "     ON b.facid = f.facid <br>\n",
    "     JOIN Members AS m <br>\n",
    "     ON b.memid = m.memid <br>\n",
    "     WHERE starttime LIKE '2012-09-14%') AS subquery\n",
    "\n",
    "HAVING cost > 30\n",
    "<br>\n",
    "ORDER BY cost DESC;"
   ]
  },
  {
   "cell_type": "markdown",
   "metadata": {},
   "source": [
    "## PART 2 : SQLITE"
   ]
  },
  {
   "cell_type": "markdown",
   "metadata": {},
   "source": [
    "Export the country club data from PHPMyAdmin, and connect to a local SQLite instance from Jupyter notebook for the following questions. "
   ]
  },
  {
   "cell_type": "markdown",
   "metadata": {},
   "source": [
    "**Q10:** Produce a list of facilities with a total revenue less than 1000.\n",
    "The output of facility name and total revenue, sorted by revenue. Remember\n",
    "that there's a different cost for guests and members!"
   ]
  },
  {
   "cell_type": "code",
   "execution_count": 1,
   "metadata": {},
   "outputs": [],
   "source": [
    "import sqlite3 as sql\n",
    "import pandas as pd"
   ]
  },
  {
   "cell_type": "code",
   "execution_count": 2,
   "metadata": {},
   "outputs": [],
   "source": [
    "con = sql.connect('country_club.db')"
   ]
  },
  {
   "cell_type": "code",
   "execution_count": 3,
   "metadata": {},
   "outputs": [],
   "source": [
    "query10 = \"SELECT f.name AS Facility_Name, SUM(CASE WHEN m.memid != 0 THEN (b.slots * f.membercost) ELSE (b.slots * f.guestcost) END) AS Revenue FROM Members AS m  INNER JOIN Bookings AS b ON m.memid = b.memid INNER JOIN Facilities AS f ON b.facid = f.facid GROUP BY Facility_Name HAVING Revenue < 1000 ORDER BY Revenue DESC\"\n",
    "rs10 = con.execute(query10)"
   ]
  },
  {
   "cell_type": "code",
   "execution_count": 4,
   "metadata": {},
   "outputs": [],
   "source": [
    "df10 = pd.DataFrame(rs10.fetchall())"
   ]
  },
  {
   "cell_type": "code",
   "execution_count": 5,
   "metadata": {},
   "outputs": [],
   "source": [
    "df10.columns = [x[0] for x in rs10.description]"
   ]
  },
  {
   "cell_type": "code",
   "execution_count": 6,
   "metadata": {},
   "outputs": [
    {
     "name": "stdout",
     "output_type": "stream",
     "text": [
      "   Facility_Name  Revenue\n",
      "0     Pool Table      270\n",
      "1  Snooker Table      240\n",
      "2   Table Tennis      180\n"
     ]
    }
   ],
   "source": [
    "print(df10)"
   ]
  },
  {
   "cell_type": "markdown",
   "metadata": {},
   "source": [
    "**Q11:** Produce a report of members and who recommended them in alphabetic surname,firstname order"
   ]
  },
  {
   "cell_type": "code",
   "execution_count": 7,
   "metadata": {},
   "outputs": [],
   "source": [
    "query11 = \"SELECT DISTINCT CASE WHEN B.memid != 0 THEN (B.surname || ', ' || B.firstname)  END AS Member_Name, CASE WHEN A.memid !=0 THEN (A.surname || ', ' || A.firstname) END AS Recommending_Member_Name FROM Members AS A, Members AS B WHERE A.memid = B.recommendedby AND B.memid != 0 ORDER BY Member_Name\"\n",
    "rs11 = con.execute(query11)"
   ]
  },
  {
   "cell_type": "code",
   "execution_count": 8,
   "metadata": {},
   "outputs": [],
   "source": [
    "df11 = pd.DataFrame(rs11.fetchall())"
   ]
  },
  {
   "cell_type": "code",
   "execution_count": 9,
   "metadata": {},
   "outputs": [],
   "source": [
    "df11.columns = [x[0] for x in rs11.description]"
   ]
  },
  {
   "cell_type": "code",
   "execution_count": 10,
   "metadata": {},
   "outputs": [
    {
     "name": "stdout",
     "output_type": "stream",
     "text": [
      "                 Member_Name Recommending_Member_Name\n",
      "0            Bader, Florence         Stibbons, Ponder\n",
      "1                Baker, Anne         Stibbons, Ponder\n",
      "2             Baker, Timothy          Farrell, Jemima\n",
      "3                Boothe, Tim              Rownam, Tim\n",
      "4            Butters, Gerald            Smith, Darren\n",
      "5               Coplin, Joan           Baker, Timothy\n",
      "6             Crumpet, Erica             Smith, Tracy\n",
      "7                Dare, Nancy         Joplette, Janice\n",
      "8           Genting, Matthew          Butters, Gerald\n",
      "9                 Hunt, John       Purview, Millicent\n",
      "10              Jones, David         Joplette, Janice\n",
      "11            Jones, Douglas             Jones, David\n",
      "12          Joplette, Janice            Smith, Darren\n",
      "13           Mackenzie, Anna            Smith, Darren\n",
      "14             Owen, Charles            Smith, Darren\n",
      "15             Pinker, David          Farrell, Jemima\n",
      "16        Purview, Millicent             Smith, Tracy\n",
      "17         Rumney, Henrietta         Genting, Matthew\n",
      "18         Sarwin, Ramnaresh          Bader, Florence\n",
      "19               Smith, Jack            Smith, Darren\n",
      "20          Stibbons, Ponder            Tracy, Burton\n",
      "21  Worthington-Smyth, Henry             Smith, Tracy\n"
     ]
    }
   ],
   "source": [
    "print(df11)"
   ]
  },
  {
   "cell_type": "markdown",
   "metadata": {},
   "source": [
    "**Q12:** Find the facilities with their usage by member, but not guests"
   ]
  },
  {
   "cell_type": "code",
   "execution_count": 11,
   "metadata": {},
   "outputs": [],
   "source": [
    "query12 = \"SELECT f.name AS Facility_Name, CASE WHEN m.memid !=0 THEN (m.surname || ', ' || m.firstname) END AS Member_Name, ((b.slots*30)/60.0) AS Usage_In_Hours FROM Members AS m INNER JOIN Bookings AS b ON m.memid = b.memid INNER JOIN Facilities AS f ON b.facid = f.facid WHERE b.memid != 0 GROUP BY b.memid, f.facid ORDER BY Member_Name, Facility_Name\"\n",
    "rs12 = con.execute(query12)"
   ]
  },
  {
   "cell_type": "code",
   "execution_count": 12,
   "metadata": {},
   "outputs": [],
   "source": [
    "df12 = pd.DataFrame(rs12.fetchall())"
   ]
  },
  {
   "cell_type": "code",
   "execution_count": 13,
   "metadata": {},
   "outputs": [],
   "source": [
    "df12.columns = [x[0] for x in rs12.description]"
   ]
  },
  {
   "cell_type": "code",
   "execution_count": 14,
   "metadata": {},
   "outputs": [
    {
     "name": "stdout",
     "output_type": "stream",
     "text": [
      "       Facility_Name               Member_Name  Usage_In_Hours\n",
      "0    Badminton Court           Bader, Florence             1.5\n",
      "1     Massage Room 2           Bader, Florence             1.0\n",
      "2         Pool Table           Bader, Florence             0.5\n",
      "3      Snooker Table           Bader, Florence             1.0\n",
      "4       Squash Court           Bader, Florence             1.0\n",
      "..               ...                       ...             ...\n",
      "197     Squash Court      Tupperware, Hyacinth             1.0\n",
      "198  Badminton Court  Worthington-Smyth, Henry             1.5\n",
      "199   Massage Room 1  Worthington-Smyth, Henry             1.0\n",
      "200       Pool Table  Worthington-Smyth, Henry             0.5\n",
      "201     Table Tennis  Worthington-Smyth, Henry             1.0\n",
      "\n",
      "[202 rows x 3 columns]\n"
     ]
    }
   ],
   "source": [
    "print(df12)"
   ]
  },
  {
   "cell_type": "markdown",
   "metadata": {},
   "source": [
    "**Q13:** Find the facilities usage by month, but not guests"
   ]
  },
  {
   "cell_type": "code",
   "execution_count": 15,
   "metadata": {},
   "outputs": [],
   "source": [
    "query13 = \"SELECT f.name AS Facility_Name, ((SUM(slots)*30)/60.0) AS Usage_In_Hours, CASE WHEN STRFTIME('%m', starttime) = '07' THEN 'July' WHEN STRFTIME('%m', starttime) = '08' THEN 'August' WHEN STRFTIME('%m', starttime) = '09' THEN 'September' END AS Month FROM Members AS m INNER JOIN Bookings AS b ON m.memid = b.memid INNER JOIN Facilities AS f ON b.facid = f.facid WHERE b.memid != 0 GROUP BY Month, Facility_Name ORDER BY Month, Facility_Name\"\n",
    "rs13 = con.execute(query13)"
   ]
  },
  {
   "cell_type": "code",
   "execution_count": 16,
   "metadata": {},
   "outputs": [],
   "source": [
    "df13 = pd.DataFrame(rs13.fetchall())"
   ]
  },
  {
   "cell_type": "code",
   "execution_count": 17,
   "metadata": {},
   "outputs": [],
   "source": [
    "df13.columns = [x[0] for x in rs13.description]"
   ]
  },
  {
   "cell_type": "code",
   "execution_count": 18,
   "metadata": {},
   "outputs": [
    {
     "name": "stdout",
     "output_type": "stream",
     "text": [
      "      Facility_Name  Usage_In_Hours      Month\n",
      "0   Badminton Court           207.0     August\n",
      "1    Massage Room 1           158.0     August\n",
      "2    Massage Room 2             9.0     August\n",
      "3        Pool Table           151.5     August\n",
      "4     Snooker Table           158.0     August\n",
      "5      Squash Court            92.0     August\n",
      "6      Table Tennis           148.0     August\n",
      "7    Tennis Court 1           169.5     August\n",
      "8    Tennis Court 2           172.5     August\n",
      "9   Badminton Court            82.5       July\n",
      "10   Massage Room 1            83.0       July\n",
      "11   Massage Room 2             4.0       July\n",
      "12       Pool Table            55.0       July\n",
      "13    Snooker Table            70.0       July\n",
      "14     Squash Court            25.0       July\n",
      "15     Table Tennis            49.0       July\n",
      "16   Tennis Court 1           100.5       July\n",
      "17   Tennis Court 2            61.5       July\n",
      "18  Badminton Court           253.5  September\n",
      "19   Massage Room 1           201.0  September\n",
      "20   Massage Room 2            14.0  September\n",
      "21       Pool Table           221.5  September\n",
      "22    Snooker Table           202.0  September\n",
      "23     Squash Court            92.0  September\n",
      "24     Table Tennis           200.0  September\n",
      "25   Tennis Court 1           208.5  September\n",
      "26   Tennis Court 2           207.0  September\n"
     ]
    }
   ],
   "source": [
    "print(df13)"
   ]
  },
  {
   "cell_type": "code",
   "execution_count": 19,
   "metadata": {},
   "outputs": [],
   "source": [
    "con.close()"
   ]
  }
 ],
 "metadata": {
  "kernelspec": {
   "display_name": "Python 3",
   "language": "python",
   "name": "python3"
  },
  "language_info": {
   "codemirror_mode": {
    "name": "ipython",
    "version": 3
   },
   "file_extension": ".py",
   "mimetype": "text/x-python",
   "name": "python",
   "nbconvert_exporter": "python",
   "pygments_lexer": "ipython3",
   "version": "3.8.2"
  }
 },
 "nbformat": 4,
 "nbformat_minor": 4
}
